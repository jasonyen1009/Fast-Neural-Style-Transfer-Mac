{
 "cells": [
  {
   "cell_type": "code",
   "execution_count": 1,
   "id": "aa533aab",
   "metadata": {},
   "outputs": [
    {
     "name": "stderr",
     "output_type": "stream",
     "text": [
      "scikit-learn version 1.3.0 is not supported. Minimum required version: 0.17. Maximum required version: 1.1.2. Disabling scikit-learn conversion API.\n",
      "Torch version 2.0.0 has not been tested with coremltools. You may run into unexpected errors. Torch 1.13.1 is the most recent version that has been tested.\n"
     ]
    }
   ],
   "source": [
    "from models import TransformerNet\n",
    "import torch\n",
    "import argparse\n",
    "import os\n",
    "import coremltools as ct\n",
    "from utils import *"
   ]
  },
  {
   "cell_type": "code",
   "execution_count": 2,
   "id": "b76d57d6",
   "metadata": {},
   "outputs": [
    {
     "name": "stdout",
     "output_type": "stream",
     "text": [
      "mps\n",
      "['pre-trained', 'starry_night_10000.pth']\n",
      "starry_night\n"
     ]
    }
   ],
   "source": [
    "transform = style_transform()\n",
    "\n",
    "# device = torch.device(\"mps\" if torch.cuda.is_available() else \"cpu\")\n",
    "\n",
    "device = \"mps\" if getattr(torch,'has_mps',False) \\\n",
    "    else \"gpu\" if torch.cuda.is_available() else \"cpu\"\n",
    "\n",
    "\n",
    "path = \"pre-trained/starry_night_10000.pth\"\n",
    "\n",
    "transformer = TransformerNet().to(device)\n",
    "transformer.load_state_dict(torch.load(path, map_location=torch.device('cpu')))\n",
    "transformer.eval()\n",
    "print(device)\n",
    "\n",
    "# path = \"starry_night_10000.pth\"\n",
    "name = path.split(\"/\")\n",
    "print(name)\n",
    "name = name[-1]\n",
    "name = name.split(\"_\")[0] + \"_\" + name.split(\"_\")[1]\n",
    "print(name)"
   ]
  },
  {
   "cell_type": "code",
   "execution_count": 3,
   "id": "9e3a6681",
   "metadata": {},
   "outputs": [],
   "source": [
    "# path = \"pre-trained/starry_night_10000.pth\"\n",
    "# parts = path.split(\"/\")\n",
    "# print(parts)\n",
    "# filename = parts[-1]  # 获取文件名部分\n",
    "# print(filename)\n",
    "# name_parts = filename.split(\"_\")  # 以下划线分割文件名\n",
    "# desired_name = \"_\".join(name_parts[:-1])  # 组合前面的部分，不包括最后一个下划线后的部分\n",
    "\n",
    "# print(desired_name)"
   ]
  },
  {
   "cell_type": "code",
   "execution_count": 3,
   "id": "7f31971f",
   "metadata": {},
   "outputs": [
    {
     "name": "stderr",
     "output_type": "stream",
     "text": [
      "Converting PyTorch Frontend ==> MIL Ops:  99%|█████████▉| 156/157 [00:00<00:00, 8479.27 ops/s]\n",
      "Running MIL Common passes:   0%|          | 0/40 [00:00<?, ? passes/s]/Users/jason/miniconda3/envs/torch/lib/python3.9/site-packages/coremltools/converters/mil/mil/passes/name_sanitization_utils.py:135: UserWarning: Output, '294', of the source model, has been renamed to 'var_294' in the Core ML model.\n",
      "  warnings.warn(msg.format(var.name, new_name))\n",
      "Running MIL Common passes: 100%|██████████| 40/40 [00:00<00:00, 1077.71 passes/s]\n",
      "Running MIL Clean up passes: 100%|██████████| 11/11 [00:00<00:00, 741.45 passes/s]\n",
      "Translating MIL ==> NeuralNetwork Ops: 100%|██████████| 244/244 [00:00<00:00, 292.11 ops/s]\n"
     ]
    }
   ],
   "source": [
    "example_input = torch.randn(1,3,960,640).to(device)\n",
    "traced_model = torch.jit.trace(transformer, example_input)\n",
    "\n",
    "mlmodel = ct.convert(traced_model, inputs=[ct.ImageType(name=\"input\", shape=example_input.shape,bias=[-0.485/0.229,-0.456/0.224,-0.406/0.225],scale=1.0/255.0/0.226)])"
   ]
  },
  {
   "cell_type": "code",
   "execution_count": 4,
   "id": "9b88bbdb",
   "metadata": {},
   "outputs": [
    {
     "data": {
      "text/plain": [
       "input {\n",
       "  name: \"input\"\n",
       "  type {\n",
       "    imageType {\n",
       "      width: 640\n",
       "      height: 960\n",
       "      colorSpace: RGB\n",
       "    }\n",
       "  }\n",
       "}\n",
       "output {\n",
       "  name: \"var_294\"\n",
       "  type {\n",
       "    multiArrayType {\n",
       "      dataType: FLOAT32\n",
       "    }\n",
       "  }\n",
       "}\n",
       "metadata {\n",
       "  userDefined {\n",
       "    key: \"com.github.apple.coremltools.source\"\n",
       "    value: \"torch==2.0.0\"\n",
       "  }\n",
       "  userDefined {\n",
       "    key: \"com.github.apple.coremltools.version\"\n",
       "    value: \"6.2\"\n",
       "  }\n",
       "}"
      ]
     },
     "execution_count": 4,
     "metadata": {},
     "output_type": "execute_result"
    }
   ],
   "source": [
    "spec = mlmodel.get_spec()\n",
    "builder = ct.models.neural_network.NeuralNetworkBuilder(spec=spec)\n",
    "builder.spec.description"
   ]
  },
  {
   "cell_type": "code",
   "execution_count": 47,
   "id": "27f7da28",
   "metadata": {},
   "outputs": [
    {
     "name": "stdout",
     "output_type": "stream",
     "text": [
      "[name: \"var_294\"\n",
      "type {\n",
      "  multiArrayType {\n",
      "    dataType: FLOAT32\n",
      "  }\n",
      "}\n",
      "]\n",
      "Output Name: var_294\n"
     ]
    }
   ],
   "source": [
    "# builder.spec.description\n",
    "# print(type(builder.spec.description))\n",
    "print(builder.spec.description.output)\n",
    "    \n",
    "output_name = spec.description.output[0].name\n",
    "\n",
    "print(\"Output Name:\", output_name)"
   ]
  },
  {
   "cell_type": "code",
   "execution_count": 20,
   "id": "eaa39f51",
   "metadata": {},
   "outputs": [
    {
     "data": {
      "text/plain": [
       "name: \"squeeze\"\n",
       "input: \"stack_out\"\n",
       "output: \"squeeze_out\"\n",
       "squeeze {\n",
       "  squeezeAll: true\n",
       "}"
      ]
     },
     "execution_count": 20,
     "metadata": {},
     "output_type": "execute_result"
    }
   ],
   "source": [
    "builder.add_split(name=\"split\", input_name=\"var_294\", output_names=[\"split_1\",\"split_2\",\"split_3\"])\n",
    "builder.add_activation(name=\"activation_1\",non_linearity=\"LINEAR\",input_name=\"split_1\",output_name=\"activation_out_1\",params=[255*0.226,0.485*255])\n",
    "builder.add_activation(name=\"activation_2\",non_linearity=\"LINEAR\",input_name=\"split_2\",output_name=\"activation_out_2\",params=[255*0.226,0.456*255])\n",
    "builder.add_activation(name=\"activation_3\",non_linearity=\"LINEAR\",input_name=\"split_3\",output_name=\"activation_out_3\",params=[255*0.226,0.406*255])\n",
    "builder.add_stack(name=\"stack\", input_names=[\"activation_out_1\",\"activation_out_2\",\"activation_out_3\"], output_name=\"stack_out\", axis=0)\n",
    "builder.add_squeeze(name=\"squeeze\", input_name=\"stack_out\", output_name=\"squeeze_out\", axes = None, squeeze_all = True)"
   ]
  },
  {
   "cell_type": "code",
   "execution_count": 21,
   "id": "9948ccd8",
   "metadata": {},
   "outputs": [],
   "source": [
    "from coremltools.proto import FeatureTypes_pb2 as ft\n",
    "from coremltools.models.utils import save_spec"
   ]
  },
  {
   "cell_type": "code",
   "execution_count": 22,
   "id": "66d2c156",
   "metadata": {},
   "outputs": [
    {
     "name": "stdout",
     "output_type": "stream",
     "text": [
      "done\n"
     ]
    }
   ],
   "source": [
    "builder.spec.description.output.pop()\n",
    "builder.spec.description.output.add()\n",
    "output = builder.spec.description.output[0]\n",
    "output.name = \"squeeze_out\"\n",
    "\n",
    "output.type.imageType.colorSpace = ft.ImageFeatureType.ColorSpace.Value('RGB')\n",
    "output.type.imageType.width = 640 \n",
    "output.type.imageType.height = 960\n",
    "\n",
    "save_spec(builder.spec, 'fast-style-transfer-starry_night.mlmodel')\n",
    "print(\"done\")"
   ]
  },
  {
   "cell_type": "code",
   "execution_count": null,
   "id": "0fa643fc",
   "metadata": {},
   "outputs": [],
   "source": [
    "from coremltools.models.neural_network import quantization_utils\n"
   ]
  }
 ],
 "metadata": {
  "kernelspec": {
   "display_name": "Python 3 (ipykernel)",
   "language": "python",
   "name": "python3"
  },
  "language_info": {
   "codemirror_mode": {
    "name": "ipython",
    "version": 3
   },
   "file_extension": ".py",
   "mimetype": "text/x-python",
   "name": "python",
   "nbconvert_exporter": "python",
   "pygments_lexer": "ipython3",
   "version": "3.9.18"
  }
 },
 "nbformat": 4,
 "nbformat_minor": 5
}
